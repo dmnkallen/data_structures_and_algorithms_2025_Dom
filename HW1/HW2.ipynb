{
 "cells": [
  {
   "cell_type": "markdown",
   "metadata": {},
   "source": [
    "Dominik Allen- 232487"
   ]
  },
  {
   "cell_type": "markdown",
   "metadata": {},
   "source": [
    "DSA HW 2"
   ]
  },
  {
   "cell_type": "markdown",
   "metadata": {},
   "source": [
    "1. URL to github repo: https://github.com/dmnkallen/calculator_app_dsa_assignement"
   ]
  },
  {
   "cell_type": "markdown",
   "metadata": {},
   "source": [
    "2a. \n",
    "\n",
    "\n",
    "\n",
    "The first class, Agent is an abstract base class with the attributes of name, preference, and if it has a match, but it is overall defining a blueprint for matching participants. The proposer and Proposee class are the subclasses to Agent that take the input of the agent class and can make objects in the two groups. The proposer class makes proposals and the proposee either takes or rejects the proposal based on its preferences, to facilitate matches."
   ]
  },
  {
   "cell_type": "code",
   "execution_count": null,
   "metadata": {},
   "outputs": [],
   "source": [
    "# 2b.\n",
    "\n",
    "\n",
    "class GaleShapley:\n",
    "    def __init__(self, proposers: list, proposees: list):\n",
    "        self.proposers = proposers\n",
    "        self.proposees = proposees\n",
    "        self.matches = {}  # Stores the final matches\n",
    "\n",
    "    def match(self) -> dict:\n",
    "        \"\"\"\n",
    "        Run the Gale-Shapley algorithm to find a stable matching.\n",
    "        \"\"\"\n",
    "        free_proposers = list(self.proposers)  # Initialize all proposers as free\n",
    "\n",
    "        while free_proposers:\n",
    "            proposer = free_proposers.pop(0)  # Pick a free proposer\n",
    "            proposee_name = proposer.propose()  # Propose to the next preferred proposee\n",
    "            \n",
    "            if proposee_name is None:\n",
    "                continue  # Skip this proposer if they have no one left to propose to\n",
    "\n",
    "            # Find the proposee in the list\n",
    "            proposee = next((p for p in self.proposees if p.name == proposee_name), None)\n",
    "            \n",
    "            if proposee is None:\n",
    "                continue  # Skip if the proposee is not found (shouldn't normally happen)\n",
    "\n",
    "            if proposee.is_free():\n",
    "                # If the proposee is free, they accept the proposal\n",
    "                proposee.accept(proposer)\n",
    "                self.matches[proposee.name] = proposer.name\n",
    "            else:\n",
    "                current_proposer = proposee.match\n",
    "                if proposee.prefers(proposer):\n",
    "                    # If the proposee prefers the new proposer over their current match\n",
    "                    proposee.accept(proposer)\n",
    "                    self.matches[proposee.name] = proposer.name\n",
    "                    free_proposers.append(current_proposer)  # The old proposer is now free\n",
    "                else:\n",
    "                    # Proposer remains free\n",
    "                    free_proposers.append(proposer)\n",
    "\n",
    "        return self.matches\n"
   ]
  },
  {
   "cell_type": "code",
   "execution_count": null,
   "metadata": {},
   "outputs": [
    {
     "name": "stdout",
     "output_type": "stream",
     "text": [
      "Stable Matching (Proposers Proposing): {'Amy': 'Xian', 'Barry': 'Zurich', 'Ali': 'Beijing', 'Charly': 'York'}\n",
      "Stable Matching (Proposees Proposing): {'York': 'Charly', 'Xian': 'Barry', 'Beijing': 'Ali', 'Zurich': 'Amy'}\n"
     ]
    }
   ],
   "source": [
    "# Define proposers and proposees based on slide 13\n",
    "proposers = [\n",
    "    Proposer(\"Xian\", [\"Amy\", \"Barry\", \"Charly\", \"Ali\"]),\n",
    "    Proposer(\"York\", [\"Barry\", \"Charly\", \"Ali\", \"Amy\"]),\n",
    "    Proposer(\"Zurich\", [\"Ali\", \"Barry\", \"Charly\", \"Amy\"]),\n",
    "    Proposer(\"Beijing\", [\"Ali\", \"Amy\", \"Charly\", \"Barry\"])\n",
    "]\n",
    "\n",
    "proposees = [\n",
    "    Proposee( \"Amy\", [\"York\", \"Beijing\", \"Zurich\", \"Xian\"]),\n",
    "    Proposee(\"Barry\", [\"Xian\", \"Beijing\", \"Zurich\", \"York\"]),\n",
    "    Proposee(\"Ali\", [\"Xian\", \"York\", \"Beijing\", \"Zurich\"]),\n",
    "    Proposee(\"Charly\", [\"York\", \"Beijing\", \"Zurich\", \"Xian\" ])\n",
    "]\n",
    "\n",
    "# Run Gale-Shapley algorithm with proposers proposing\n",
    "gs = GaleShapley(proposers, proposees)\n",
    "matching = gs.match()\n",
    "print(\"Stable Matching (Proposers Proposing):\", matching)\n",
    "\n",
    "# Run Gale-Shapley algorithm with proposees proposing\n",
    "proposers = [\n",
    "    Proposer( \"Amy\", [\"York\", \"Beijing\", \"Zurich\", \"Xian\"]),\n",
    "    Proposer(\"Barry\", [\"Xian\", \"Beijing\", \"Zurich\", \"York\"]),\n",
    "    Proposer(\"Ali\", [\"Xian\", \"York\", \"Beijing\", \"Zurich\"]),\n",
    "    Proposer(\"Charly\", [\"York\", \"Beijing\", \"Zurich\", \"Xian\" ])\n",
    "]\n",
    "\n",
    "proposees = [\n",
    "    Proposee(\"Xian\", [\"Amy\", \"Barry\", \"Charly\", \"Ali\"]),\n",
    "    Proposee(\"York\", [\"Barry\", \"Charly\", \"Ali\", \"Amy\"]),\n",
    "    Proposee(\"Zurich\", [\"Ali\", \"Barry\", \"Charly\", \"Amy\"]),\n",
    "    Proposee(\"Beijing\", [\"Ali\", \"Amy\", \"Charly\", \"Barry\"])\n",
    "]\n",
    "\n",
    "gs_reverse = GaleShapley(proposers, proposees)\n",
    "matching_reverse = gs_reverse.match()\n",
    "print(\"Stable Matching (Proposees Proposing):\", matching_reverse)\n",
    "#Use GPT to assist with writing the class"
   ]
  },
  {
   "cell_type": "markdown",
   "metadata": {},
   "source": [
    "3a. \n",
    "\n",
    "The outer loop runs n times (i from 0 to n-1) and the inner loop also runs n times in the worst case (j from i to n-1).\n",
    "The sum operation runs for each pair (i, j), leading to approximately n(n+1)/2 iterations. This simplifies to O(n²) for the algorithm runnning time meaning it is polynomial in the size of the array and would be considered somewhat efficient (for purposes of this question). For the smallest d, since we find that the algorithm runs in O(n²), then d = 2 is the smallest value for which O(n^d) is true."
   ]
  },
  {
   "cell_type": "markdown",
   "metadata": {},
   "source": [
    "3b. \n",
    "\n",
    "\n",
    "This algorithm finds the max sum of a subarray by starting at a current sum of 0, and then iterating over each number in the array, and then either using that number or adding it to the current sum depending on which is larger, it then moves on to the next element. This algorithm is different in that it only iterates once while maintaining/ updating a running sum vs the prevous alogrithm which checks for every single possible subarray. This algorithm also gets the time efficiency of O(n) since it goes through only once as opposed to a nested loop O(n^2) that we've seen in the previous."
   ]
  }
 ],
 "metadata": {
  "kernelspec": {
   "display_name": "dsa",
   "language": "python",
   "name": "python3"
  },
  "language_info": {
   "codemirror_mode": {
    "name": "ipython",
    "version": 3
   },
   "file_extension": ".py",
   "mimetype": "text/x-python",
   "name": "python",
   "nbconvert_exporter": "python",
   "pygments_lexer": "ipython3",
   "version": "3.11.11"
  }
 },
 "nbformat": 4,
 "nbformat_minor": 2
}
